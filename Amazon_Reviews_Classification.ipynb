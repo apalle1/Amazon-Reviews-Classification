{
  "nbformat": 4,
  "nbformat_minor": 0,
  "metadata": {
    "colab": {
      "name": "Amazon-Reviews-Classification",
      "provenance": [],
      "collapsed_sections": []
    },
    "kernelspec": {
      "name": "python3",
      "display_name": "Python 3"
    },
    "accelerator": "GPU"
  },
  "cells": [
    {
      "cell_type": "markdown",
      "metadata": {
        "id": "ZcOe26IW_gs-",
        "colab_type": "text"
      },
      "source": [
        "Text Classification is an example of supervised machine learning task. We have a labelled dataset containing text documents and their corresponding labels. An end-to-end text classification pipeline is composed of three main components:\n",
        "\n",
        "1. Dataset Preparation: The first step is the dataset preparation which includes the process of loading a dataset and performing basic pre-processing. The dataset is then splitted into train and validation sets.\n",
        "2. Feature Engineering: In this step the raw dataset is transformed into features which can be then fed into a machine learning model. \n",
        "3. Model Training: The final step is the model building step in which a machine learning model is trained on a labelled dataset. We would be using the Multinomial Naive Bayes, SVM, Logistic Regression, Xtereme Gradient Boosting, NN algorithms to categorize the Amazon reviews.\n",
        "\n",
        "Understanding LSTM's\n",
        "\n",
        "*  https://colah.github.io/\n",
        "*  https://www.youtube.com/watch?v=8HyCNIVRbSU\n",
        "\n",
        "Word Embedding Explained\n",
        "\n",
        "*  http://jalammar.github.io/illustrated-word2vec/\n",
        "*  https://ruder.io/word-embeddings-1/index.html\n",
        "*  http://mccormickml.com/tutorials/\n",
        "\n",
        "Word Embedding - Code Implementation in Keras\n",
        "\n",
        "*   https://machinelearningmastery.com/use-word-embedding-layers-deep-learning-keras/\n",
        "\n",
        "*   https://keras.io/layers/embeddings/ - Refer the example. Arguments passed to ***Embedding()*** such as ***input_dim***: Size of the vocabulary and ***output_dim***: Dimension of the dense embedding. The Input to a Embedding layer is a 2D tensor with shape: (batch_size, sequence_length). The Output from a Embedding layer is a 3D tensor with shape: (batch_size, sequence_length, output_dim).\n",
        "\n",
        "Implementation of LSTM in Keras\n",
        "\n",
        "*  https://towardsdatascience.com/understanding-lstm-and-its-quick-implementation-in-keras-for-sentiment-analysis-af410fd85b47\n",
        "\n",
        "*  https://www.analyticsvidhya.com/blog/2017/12/fundamentals-of-deep-learning-introduction-to-lstm/\n",
        "\n",
        "Keras Tokenizer method\n",
        "\n",
        "*  https://stackoverflow.com/questions/51956000/what-does-keras-tokenizer-method-exactly-do\n"
      ]
    },
    {
      "cell_type": "code",
      "metadata": {
        "id": "I5wxPCH0_i1G",
        "colab_type": "code",
        "colab": {}
      },
      "source": [
        "# !pip install textblob\n",
        "# !pip install gensim\n",
        "import numpy as np\n",
        "import pandas, xgboost, textblob, string\n",
        "import os\n",
        "\n",
        "from sklearn.model_selection import train_test_split\n",
        "from sklearn.preprocessing import LabelEncoder\n",
        "from sklearn import linear_model, naive_bayes, metrics, svm\n",
        "from sklearn.feature_extraction.text import TfidfVectorizer, CountVectorizer\n",
        "from sklearn import decomposition, ensemble\n",
        "\n",
        "from gensim.models import KeyedVectors\n",
        "\n",
        "from keras.layers import Dense\n",
        "from keras.models import Sequential\n",
        "from keras.utils import to_categorical\n",
        "from keras.preprocessing import text, sequence\n",
        "from keras import optimizers\n",
        "from keras import layers, models, optimizers\n",
        "\n",
        "import warnings\n",
        "warnings.filterwarnings('ignore')"
      ],
      "execution_count": null,
      "outputs": []
    },
    {
      "cell_type": "code",
      "metadata": {
        "id": "TjiVSoj-0-7L",
        "colab_type": "code",
        "colab": {}
      },
      "source": [
        "from google.colab import files\n",
        "\n",
        "uploaded = files.upload()\n",
        "\n",
        "for fn in uploaded.keys():\n",
        "  print('User uploaded file \"{name}\" with length {length} bytes'.format(\n",
        "      name=fn, length=len(uploaded[fn]))) "
      ],
      "execution_count": null,
      "outputs": []
    },
    {
      "cell_type": "code",
      "metadata": {
        "id": "b2ie82gWzZ-N",
        "colab_type": "code",
        "colab": {}
      },
      "source": [
        "# uploaded"
      ],
      "execution_count": null,
      "outputs": []
    },
    {
      "cell_type": "code",
      "metadata": {
        "id": "K0uw5-ehzb-D",
        "colab_type": "code",
        "colab": {}
      },
      "source": [
        "# uploaded['corpus']"
      ],
      "execution_count": null,
      "outputs": []
    },
    {
      "cell_type": "code",
      "metadata": {
        "id": "Q-rO5KuKzgr4",
        "colab_type": "code",
        "colab": {}
      },
      "source": [
        "'''\n",
        "https://stackoverflow.com/questions/45482272/typeerror-a-bytes-like-object-is-required-not-str-python-2-to-3\n",
        "https://stackoverflow.com/questions/48277354/typeerror-a-bytes-like-object-is-required-not-str-how-can-i-fix-this\n",
        "The gist is that bytes are, well, bytes (groups of 8 bits without any further meaning attached), whereas characters are the things that make up strings of text. \n",
        "Encoding turns characters i.e str into bytes, and decoding turns bytes back into characters.\n",
        "The encode() method encodes the string, using the specified encoding. If no encoding is specified, UTF-8 will be used.\n",
        "So basically string data is converted to bytes data : data_bytes = data_string.decode(\"utf-8\")\n",
        "It's because type(uploaded['corpus']) returns bytes, just decode it using utf-8.\n",
        "\n",
        "RUN THE BELOW CODE IN A SEPERATE CELL\n",
        "\n",
        "# initializing string  \n",
        "str = \"geeksforgeeks\"\n",
        "  \n",
        "# encoding string  \n",
        "str_enc = str.encode() \n",
        "  \n",
        "# printing the encoded string \n",
        "print (\"The encoded string in base64 format is : \")  \n",
        "print(str_enc)\n",
        "  \n",
        "# printing the original decoded string  \n",
        "print (\"The decoded string is : \")\n",
        "print(str_enc.decode())\n",
        "\n",
        "'''\n",
        "print(type(uploaded['corpus']))\n",
        "print(type(uploaded['corpus'].decode('utf-8')))"
      ],
      "execution_count": null,
      "outputs": []
    },
    {
      "cell_type": "code",
      "metadata": {
        "id": "ClDk8YQcwFhP",
        "colab_type": "code",
        "colab": {
          "base_uri": "https://localhost:8080/",
          "height": 104
        },
        "outputId": "6a2e196e-595f-4c49-e4ca-f0763d59ae03"
      },
      "source": [
        "'''\n",
        "\\n is what you do when you go to next line i.e ‘Enter Key’ and for tabs we use \\t\n",
        "\n",
        "RUN THE BELOW CODE IN A SEPERATE CELL\n",
        "\n",
        "text = 'The oceans are warming faster than previously estimated, setting a new temperature record in 2018 in a trend that is damaging marine life, scientists said on Thursday.\\nNew measurements, aided by an international network of 3,900 floats deployed in the oceans since 2000, showed more warming since 1971 than calculated by the latest UN assessment of climate change in 2013, they said.\\nAnd “observational records of ocean heat content show that ocean warming is accelerating,” the authors in China and the US wrote in the journal Science of ocean waters down to 2,000 metres (6,600 ft).'\n",
        "print(text)\n",
        "print('--')\n",
        "print(text.split('\\n'))\n",
        "\n",
        "RUN THE BELOW CODE IN A SEPERATE CELL\n",
        "\n",
        "my_list = ['apple', 'banana', 'grapes', 'pear']\n",
        "for counter, value in enumerate(my_list):\n",
        "  print(counter, value)\n",
        "'''\n",
        "\n",
        "data = uploaded['corpus'].decode('utf-8')  #Converts bytes into characters.\n",
        "ID = []\n",
        "labels = []\n",
        "texts = []\n",
        "for counter, line in enumerate(data.split('\\n')): #Iterates on every element of the list created by splitting data at \\n\n",
        "  ID.append(counter)\n",
        "  content = line.split() #Split the line to separate label and text\n",
        "  labels.append(content[0])\n",
        "  texts.append(content[1:])\n",
        "texts1 = [\" \".join(line) for line in texts]\n",
        "\n",
        "print(ID[0])\n",
        "print(labels[0])\n",
        "print(texts[0])\n",
        "print(texts1[0])"
      ],
      "execution_count": null,
      "outputs": [
        {
          "output_type": "stream",
          "text": [
            "0\n",
            "__label__2\n",
            "['Stuning', 'even', 'for', 'the', 'non-gamer:', 'This', 'sound', 'track', 'was', 'beautiful!', 'It', 'paints', 'the', 'senery', 'in', 'your', 'mind', 'so', 'well', 'I', 'would', 'recomend', 'it', 'even', 'to', 'people', 'who', 'hate', 'vid.', 'game', 'music!', 'I', 'have', 'played', 'the', 'game', 'Chrono', 'Cross', 'but', 'out', 'of', 'all', 'of', 'the', 'games', 'I', 'have', 'ever', 'played', 'it', 'has', 'the', 'best', 'music!', 'It', 'backs', 'away', 'from', 'crude', 'keyboarding', 'and', 'takes', 'a', 'fresher', 'step', 'with', 'grate', 'guitars', 'and', 'soulful', 'orchestras.', 'It', 'would', 'impress', 'anyone', 'who', 'cares', 'to', 'listen!', '^_^']\n",
            "Stuning even for the non-gamer: This sound track was beautiful! It paints the senery in your mind so well I would recomend it even to people who hate vid. game music! I have played the game Chrono Cross but out of all of the games I have ever played it has the best music! It backs away from crude keyboarding and takes a fresher step with grate guitars and soulful orchestras. It would impress anyone who cares to listen! ^_^\n"
          ],
          "name": "stdout"
        }
      ]
    },
    {
      "cell_type": "code",
      "metadata": {
        "id": "ycTWFljSyf9-",
        "colab_type": "code",
        "colab": {
          "base_uri": "https://localhost:8080/",
          "height": 491
        },
        "outputId": "f471e517-6a1f-420f-c047-33fcca3d3de1"
      },
      "source": [
        "# create a dataframe using texts and lables\n",
        "trainDF = pandas.DataFrame()\n",
        "trainDF['text'] = texts1\n",
        "trainDF['label'] = labels\n",
        "\n",
        "print(trainDF.head())\n",
        "print('-------------------------------------------------------------')\n",
        "names = ['Label 1', 'Label_2']\n",
        "print(trainDF[\"label\"].value_counts().plot(kind='pie', labels=names, autopct='%1.0f%%', subplots=True, figsize=(6, 6)))"
      ],
      "execution_count": null,
      "outputs": [
        {
          "output_type": "stream",
          "text": [
            "                                                text       label\n",
            "0  Stuning even for the non-gamer: This sound tra...  __label__2\n",
            "1  The best soundtrack ever to anything.: I'm rea...  __label__2\n",
            "2  Amazing!: This soundtrack is my favorite music...  __label__2\n",
            "3  Excellent Soundtrack: I truly like this soundt...  __label__2\n",
            "4  Remember, Pull Your Jaw Off The Floor After He...  __label__2\n",
            "-------------------------------------------------------------\n",
            "[<matplotlib.axes._subplots.AxesSubplot object at 0x7f5ca1458320>]\n"
          ],
          "name": "stdout"
        },
        {
          "output_type": "display_data",
          "data": {
            "image/png": "[encoded data removed]",
            "text/plain": [
              "<Figure size 432x432 with 1 Axes>"
            ]
          },
          "metadata": {
            "tags": []
          }
        }
      ]
    },
    {
      "cell_type": "code",
      "metadata": {
        "id": "pKdQav8H7y8o",
        "colab_type": "code",
        "colab": {
          "base_uri": "https://localhost:8080/",
          "height": 34
        },
        "outputId": "bb027c10-bc8e-4fbd-fad3-cf2ed72efd21"
      },
      "source": [
        "# split the dataset into training and validation datasets \n",
        "train_x, valid_x, train_y, valid_y = train_test_split(trainDF['text'], trainDF['label'])\n",
        "\n",
        "# Now we label encode our target column so that it can be used in machine learning models\n",
        "# https://www.youtube.com/watch?v=hJ2sKPj5Xn4\n",
        "encoder = LabelEncoder()\n",
        "train_y = encoder.fit_transform(train_y)\n",
        "valid_y = encoder.fit_transform(valid_y)\n",
        "\n",
        "print(train_y)"
      ],
      "execution_count": null,
      "outputs": [
        {
          "output_type": "stream",
          "text": [
            "[0 0 0 ... 1 0 1]\n"
          ],
          "name": "stdout"
        }
      ]
    },
    {
      "cell_type": "markdown",
      "metadata": {
        "id": "BQuYrm_TJgvI",
        "colab_type": "text"
      },
      "source": [
        "# 2) Feature Engineering\n",
        "\n",
        "The next step is the feature engineering step. In this step, raw text data will be transformed into feature vectors and new features will be created using the existing dataset. We will implement the following different ideas in order to obtain relevant features from our dataset.\n",
        "\n",
        "\n",
        "\n",
        "1.   Count Vectors as features\n",
        "2.   TF-IDF Vectors as features\n",
        "\n",
        "*   Word level\n",
        "*   N-Gram level\n",
        "*   Character level\n",
        "\n",
        "3.   Word Embeddings as features\n"
      ]
    },
    {
      "cell_type": "code",
      "metadata": {
        "id": "PgxUHI-hKoYF",
        "colab_type": "code",
        "colab": {}
      },
      "source": [
        "# create a count vectorizer object \n",
        "# transform the training and validation data using count vectorizer object\n",
        "count_vect = CountVectorizer(analyzer='word', token_pattern=r'\\w{1,}')\n",
        "count_vect.fit(trainDF['text'])\n",
        "xtrain_count =  count_vect.transform(train_x)\n",
        "xvalid_count =  count_vect.transform(valid_x)\n",
        "\n",
        "# word level tf-idf\n",
        "tfidf_vect = TfidfVectorizer(analyzer='word', token_pattern=r'\\w{1,}', max_features=5000)\n",
        "tfidf_vect.fit(trainDF['text'])\n",
        "xtrain_tfidf =  tfidf_vect.transform(train_x)\n",
        "xvalid_tfidf =  tfidf_vect.transform(valid_x)\n",
        "\n",
        "# ngram level tf-idf \n",
        "tfidf_vect_ngram = TfidfVectorizer(analyzer='word', token_pattern=r'\\w{1,}', ngram_range=(2,3), max_features=5000)\n",
        "tfidf_vect_ngram.fit(trainDF['text'])\n",
        "xtrain_tfidf_ngram =  tfidf_vect_ngram.transform(train_x)\n",
        "xvalid_tfidf_ngram =  tfidf_vect_ngram.transform(valid_x)\n",
        "\n",
        "# characters level tf-idf\n",
        "tfidf_vect_ngram_chars = TfidfVectorizer(analyzer='char', token_pattern=r'\\w{1,}', ngram_range=(2,3), max_features=5000)\n",
        "tfidf_vect_ngram_chars.fit(trainDF['text'])\n",
        "xtrain_tfidf_ngram_chars =  tfidf_vect_ngram_chars.transform(train_x) \n",
        "xvalid_tfidf_ngram_chars =  tfidf_vect_ngram_chars.transform(valid_x) "
      ],
      "execution_count": null,
      "outputs": []
    },
    {
      "cell_type": "markdown",
      "metadata": {
        "id": "0TneVxjwKvLb",
        "colab_type": "text"
      },
      "source": [
        "Word embedding is the modern way of representing words as vectors. The aim of word embedding is to redefine the high dimensional word features into low dimensional feature vectors by preserving the contextual similarity in the corpus. **Word2Vec** and **GloVe** are the two popular models to create word embedding of a text. These models takes a text corpus as input and produces the word vectors as output. In Bag-of-words model, a text (such as a sentence or a document) is represented as the bag of its words, disregarding grammar. We don't even consider the order of the words in a sentence. We make use of pre-trained word vectors from word2vec and glove in order to do text classification."
      ]
    },
    {
      "cell_type": "code",
      "metadata": {
        "id": "SVmM8KkN51Mt",
        "colab_type": "code",
        "colab": {
          "base_uri": "https://localhost:8080/",
          "height": 34
        },
        "outputId": "a78ceacd-08b8-4b96-af2a-c6984eed2770"
      },
      "source": [
        "from google.colab import drive\n",
        "drive.mount('/content/gdrive')"
      ],
      "execution_count": null,
      "outputs": [
        {
          "output_type": "stream",
          "text": [
            "Drive already mounted at /content/gdrive; to attempt to forcibly remount, call drive.mount(\"/content/gdrive\", force_remount=True).\n"
          ],
          "name": "stdout"
        }
      ]
    },
    {
      "cell_type": "code",
      "metadata": {
        "id": "EboQFuyQL8w9",
        "colab_type": "code",
        "colab": {
          "base_uri": "https://localhost:8080/",
          "height": 34
        },
        "outputId": "cf6b0d70-f621-4e6d-bd13-84cef3f04b44"
      },
      "source": [
        "# load the pre-trained word-embedding vectors \n",
        "glove_dir = '/content/gdrive/My Drive/Projects Colab/Glove'\n",
        "embeddings_index = {}\n",
        "f = open(os.path.join(glove_dir, 'glove.6B.100d.txt'))\n",
        "for line in f:\n",
        "  values = line.split()\n",
        "  word = values[0]\n",
        "  coefs = np.asarray(values[1:], dtype='float32')\n",
        "  embeddings_index[word] = coefs\n",
        "f.close()\n",
        "\n",
        "print('Found %s word vectors.' % len(embeddings_index))"
      ],
      "execution_count": null,
      "outputs": [
        {
          "output_type": "stream",
          "text": [
            "Found 400000 word vectors.\n"
          ],
          "name": "stdout"
        }
      ]
    },
    {
      "cell_type": "code",
      "metadata": {
        "id": "QXE2DwZuLcYN",
        "colab_type": "code",
        "colab": {}
      },
      "source": [
        "# create a tokenizer \n",
        "token = text.Tokenizer()\n",
        "token.fit_on_texts(trainDF['text'])\n",
        "word_index = token.word_index\n",
        "\n",
        "# convert text to sequence of tokens and pad them to ensure equal length vectors \n",
        "train_seq_x = sequence.pad_sequences(token.texts_to_sequences(train_x), maxlen=70)\n",
        "valid_seq_x = sequence.pad_sequences(token.texts_to_sequences(valid_x), maxlen=70)\n",
        "\n",
        "# create token-embedding mapping\n",
        "embedding_matrix = np.zeros((len(word_index) + 1, 100))\n",
        "for word, i in word_index.items():\n",
        "    embedding_vector = embeddings_index.get(word)\n",
        "    if embedding_vector is not None:\n",
        "        embedding_matrix[i] = embedding_vector"
      ],
      "execution_count": null,
      "outputs": []
    },
    {
      "cell_type": "markdown",
      "metadata": {
        "id": "bYmJBl87P3kj",
        "colab_type": "text"
      },
      "source": [
        "# 3) Model Building\n",
        "\n",
        "The final step in the text classification framework is to train a classifier using the features created in the previous step. There are many different choices of machine learning models which can be used to train a final model. We will implement following different classifiers for this purpose:\n",
        "\n",
        "\n",
        "\n",
        "\n",
        "*   Naive Bayes Classifier\n",
        "\n",
        "*   Linear Classifier\n",
        "\n",
        "*   Support Vector Machine\n",
        "\n",
        "*   Bagging Models\n",
        "\n",
        "*   Boosting Models\n",
        "\n",
        "*   Shallow Neural Networks\n",
        "\n",
        "*   Deep Neural Networks\n",
        "\n",
        "*   Convolutional Neural Network (CNN)\n",
        "\n",
        "*   Long Short Term Model (LSTM)\n",
        "\n",
        "*   Gated Recurrent Unit (GRU)\n",
        "\n",
        "*   Bidirectional RNN\n",
        "\n",
        "*   Recurrent Convolutional Neural Network (RCNN)\n",
        "\n",
        "*   Other Variants of Deep Neural Networks\n",
        "\n",
        "Lets implement these models and understand their details. The following function is a utility function which can be used to train a model. It accepts the classifier, feature_vector of training data, labels of training data and feature vectors of valid data as inputs. Using these inputs, the model is trained and accuracy score is computed."
      ]
    },
    {
      "cell_type": "code",
      "metadata": {
        "id": "z9Xx26Ebu14R",
        "colab_type": "code",
        "colab": {}
      },
      "source": [
        "# Model Building\n",
        "# Train a classifier using the features created in the previous step.\n",
        "\n",
        "def train_model(classifier, feature_vector_train, label, feature_vector_valid, is_neural_net=False):\n",
        "    # fit the training dataset on the classifier\n",
        "    classifier.fit(feature_vector_train, label)\n",
        "    \n",
        "    # predict the labels on validation dataset\n",
        "    predictions = classifier.predict(feature_vector_valid)\n",
        "    \n",
        "    if is_neural_net:\n",
        "        # predictions = predictions[:,1] This won't work bcoz it's output values are between 0 & 1 rather than strictly 0 & 1. \n",
        "        # argmax returns the position of the largest value. max returns the largest value.\n",
        "        # https://stackoverflow.com/questions/36300334/understanding-argmax\n",
        "        predictions = predictions.argmax(axis=-1)\n",
        "        \n",
        "    return metrics.accuracy_score(predictions, valid_y)"
      ],
      "execution_count": null,
      "outputs": []
    },
    {
      "cell_type": "markdown",
      "metadata": {
        "id": "ZMFjfEmrJYMh",
        "colab_type": "text"
      },
      "source": [
        "#### Naive Bayes"
      ]
    },
    {
      "cell_type": "code",
      "metadata": {
        "id": "FHVv-y8pRNRb",
        "colab_type": "code",
        "colab": {
          "base_uri": "https://localhost:8080/",
          "height": 84
        },
        "outputId": "d0d5175c-ba4f-4b8c-904b-8a130aaadbd9"
      },
      "source": [
        "# Naive Bayes\n",
        "\n",
        "# Naive Bayes on Count Vectors\n",
        "accuracy = train_model(naive_bayes.MultinomialNB(), xtrain_count, train_y, xvalid_count)\n",
        "print (\"NB, Count Vectors: \", accuracy)\n",
        "\n",
        "# Naive Bayes on Word Level TF IDF Vectors\n",
        "accuracy = train_model(naive_bayes.MultinomialNB(), xtrain_tfidf, train_y, xvalid_tfidf)\n",
        "print (\"NB, WordLevel TF-IDF: \", accuracy)\n",
        "\n",
        "# Naive Bayes on Ngram Level TF IDF Vectors\n",
        "accuracy = train_model(naive_bayes.MultinomialNB(), xtrain_tfidf_ngram, train_y, xvalid_tfidf_ngram)\n",
        "print (\"NB, N-Gram Vectors: \", accuracy)\n",
        "\n",
        "# Naive Bayes on Character Level TF IDF Vectors\n",
        "accuracy = train_model(naive_bayes.MultinomialNB(), xtrain_tfidf_ngram_chars, train_y, xvalid_tfidf_ngram_chars)\n",
        "print (\"NB, CharLevel Vectors: \", accuracy)"
      ],
      "execution_count": null,
      "outputs": [
        {
          "output_type": "stream",
          "text": [
            "NB, Count Vectors:  0.8288\n",
            "NB, WordLevel TF-IDF:  0.8388\n",
            "NB, N-Gram Vectors:  0.8408\n",
            "NB, CharLevel Vectors:  0.8104\n"
          ],
          "name": "stdout"
        }
      ]
    },
    {
      "cell_type": "markdown",
      "metadata": {
        "id": "6gM88EcIJWhL",
        "colab_type": "text"
      },
      "source": [
        "#### Logistic Regression"
      ]
    },
    {
      "cell_type": "code",
      "metadata": {
        "id": "w7o_E8G7w91M",
        "colab_type": "code",
        "colab": {
          "base_uri": "https://localhost:8080/",
          "height": 122
        },
        "outputId": "d9541bef-3cce-4384-f515-ff6bd5743232"
      },
      "source": [
        "# Linear Classifier (Logistic Regression)\n",
        "\n",
        "# Linear Classifier on Count Vectors\n",
        "accuracy = train_model(linear_model.LogisticRegression(), xtrain_count, train_y, xvalid_count)\n",
        "print (\"LR, Count Vectors: \", accuracy)\n",
        "\n",
        "# Linear Classifier on Word Level TF IDF Vectors\n",
        "accuracy = train_model(linear_model.LogisticRegression(), xtrain_tfidf, train_y, xvalid_tfidf)\n",
        "print (\"LR, WordLevel TF-IDF: \", accuracy)\n",
        "\n",
        "# Linear Classifier on Ngram Level TF IDF Vectors\n",
        "accuracy = train_model(linear_model.LogisticRegression(), xtrain_tfidf_ngram, train_y, xvalid_tfidf_ngram)\n",
        "print (\"LR, N-Gram Vectors: \", accuracy)\n",
        "\n",
        "# Linear Classifier on Character Level TF IDF Vectors\n",
        "accuracy = train_model(linear_model.LogisticRegression(), xtrain_tfidf_ngram_chars, train_y, xvalid_tfidf_ngram_chars)\n",
        "print (\"LR, CharLevel Vectors: \", accuracy)\n",
        "\n",
        "# Linear Classifier on Glove Vectors\n",
        "accuracy = train_model(linear_model.LogisticRegression(), xtrain_glove, train_y, xvalid_glove)\n",
        "print (\"LR, Glove Vectors: \", accuracy)\n",
        "\n",
        "# Linear Classifier on word2vec Vectors\n",
        "accuracy = train_model(linear_model.LogisticRegression(), xtrain_word2vec, train_y, xvalid_word2vec)\n",
        "print (\"LR, word2vec Vectors: \", accuracy)"
      ],
      "execution_count": null,
      "outputs": [
        {
          "output_type": "stream",
          "text": [
            "LR, Count Vectors:  0.8632\n",
            "LR, WordLevel TF-IDF:  0.866\n",
            "LR, N-Gram Vectors:  0.8292\n",
            "LR, CharLevel Vectors:  0.84\n",
            "LR, Glove Vectors:  0.7368\n",
            "LR, word2vec Vectors:  0.7988\n"
          ],
          "name": "stdout"
        }
      ]
    },
    {
      "cell_type": "markdown",
      "metadata": {
        "id": "WCuZg6YzJPF-",
        "colab_type": "text"
      },
      "source": [
        "#### Support vector machine\n"
      ]
    },
    {
      "cell_type": "code",
      "metadata": {
        "id": "-Pwnv9AXxjT1",
        "colab_type": "code",
        "colab": {
          "base_uri": "https://localhost:8080/",
          "height": 70
        },
        "outputId": "9b025667-3bfd-4752-be0a-c55718092373"
      },
      "source": [
        "# Implementing a SVM Model\n",
        "\n",
        "# SVM on Ngram Level TF IDF Vectors\n",
        "accuracy = train_model(svm.SVC(), xtrain_tfidf_ngram, train_y, xvalid_tfidf_ngram)\n",
        "print (\"SVM, N-Gram Vectors: \", accuracy)\n",
        "\n",
        "# SVM on Glove Vectors\n",
        "accuracy = train_model(svm.SVC(), xtrain_glove, train_y, xvalid_glove)\n",
        "print (\"SVM, Glove Vectors: \", accuracy)\n",
        "\n",
        "# SVM on word2vec Vectors\n",
        "accuracy = train_model(svm.SVC(), xtrain_word2vec, train_y, xvalid_word2vec)\n",
        "print (\"SVM, word2vec Vectors: \", accuracy)"
      ],
      "execution_count": null,
      "outputs": [
        {
          "output_type": "stream",
          "text": [
            "SVM, N-Gram Vectors:  0.5164\n",
            "SVM, Glove Vectors:  0.7292\n",
            "SVM, word2vec Vectors:  0.5164\n"
          ],
          "name": "stdout"
        }
      ]
    },
    {
      "cell_type": "markdown",
      "metadata": {
        "id": "nD6rbnBpJK6S",
        "colab_type": "text"
      },
      "source": [
        "#### Random Forest"
      ]
    },
    {
      "cell_type": "code",
      "metadata": {
        "id": "PmimW-3txji2",
        "colab_type": "code",
        "colab": {
          "base_uri": "https://localhost:8080/",
          "height": 87
        },
        "outputId": "9f88a3dc-5223-4e50-a0d7-00c5a7905061"
      },
      "source": [
        "# Bagging Model\n",
        "# Implementing a Random Forest Model\n",
        "\n",
        "# RF on Count Vectors\n",
        "accuracy = train_model(ensemble.RandomForestClassifier(), xtrain_count, train_y, xvalid_count)\n",
        "print (\"RF, Count Vectors: \", accuracy)\n",
        "\n",
        "# RF on Word Level TF IDF Vectors\n",
        "accuracy = train_model(ensemble.RandomForestClassifier(), xtrain_tfidf, train_y, xvalid_tfidf)\n",
        "print (\"RF, WordLevel TF-IDF: \", accuracy)\n",
        "\n",
        "# RF on Glove Vectors\n",
        "accuracy = train_model(ensemble.RandomForestClassifier(), xtrain_glove, train_y, xvalid_glove)\n",
        "print (\"RF, Glove Vectors: \", accuracy)\n",
        "\n",
        "# RF on word2vec Vectors\n",
        "accuracy = train_model(ensemble.RandomForestClassifier(), xtrain_word2vec, train_y, xvalid_word2vec)\n",
        "print (\"RF, word2vec Vectors: \", accuracy)"
      ],
      "execution_count": null,
      "outputs": [
        {
          "output_type": "stream",
          "text": [
            "RF, Count Vectors:  0.7412\n",
            "RF, WordLevel TF-IDF:  0.7532\n",
            "RF, Glove Vectors:  0.6864\n",
            "RF, word2vec Vectors:  0.7016\n"
          ],
          "name": "stdout"
        }
      ]
    },
    {
      "cell_type": "markdown",
      "metadata": {
        "id": "gW01Oi-bJIRy",
        "colab_type": "text"
      },
      "source": [
        "#### Gradient Boosting"
      ]
    },
    {
      "cell_type": "code",
      "metadata": {
        "id": "H75qo1dgxjnZ",
        "colab_type": "code",
        "colab": {
          "base_uri": "https://localhost:8080/",
          "height": 70
        },
        "outputId": "e0117e5e-4b5b-4a7e-ee96-0a8984c4c1be"
      },
      "source": [
        "# Boosting Model\n",
        "# Implementing Xtereme Gradient Boosting Model\n",
        "\n",
        "# Extereme Gradient Boosting on Count Vectors\n",
        "accuracy = train_model(xgboost.XGBClassifier(), xtrain_count.tocsc(), train_y, xvalid_count.tocsc())\n",
        "print (\"Xgb, Count Vectors: \", accuracy)\n",
        "\n",
        "# Extereme Gradient Boosting on Word Level TF IDF Vectors\n",
        "accuracy = train_model(xgboost.XGBClassifier(), xtrain_tfidf.tocsc(), train_y, xvalid_tfidf.tocsc())\n",
        "print (\"Xgb, WordLevel TF-IDF: \", accuracy)\n",
        "\n",
        "# Extereme Gradient Boosting on Character Level TF IDF Vectors\n",
        "accuracy = train_model(xgboost.XGBClassifier(), xtrain_tfidf_ngram_chars.tocsc(), train_y, xvalid_tfidf_ngram_chars.tocsc())\n",
        "print (\"Xgb, CharLevel Vectors: \", accuracy)"
      ],
      "execution_count": null,
      "outputs": [
        {
          "output_type": "stream",
          "text": [
            "Xgb, Count Vectors:  0.7924\n",
            "Xgb, WordLevel TF-IDF:  0.7848\n",
            "Xgb, CharLevel Vectors:  0.7948\n"
          ],
          "name": "stdout"
        }
      ]
    },
    {
      "cell_type": "markdown",
      "metadata": {
        "id": "rChibNZDJCFo",
        "colab_type": "text"
      },
      "source": [
        "#### Shallow Neural Networks"
      ]
    },
    {
      "cell_type": "code",
      "metadata": {
        "id": "amquJvjrxjhr",
        "colab_type": "code",
        "colab": {
          "base_uri": "https://localhost:8080/",
          "height": 301
        },
        "outputId": "0c149aee-700d-4f89-a180-bdb0fec6956e"
      },
      "source": [
        "def create_model_architecture(input_size):\n",
        "    model = Sequential()\n",
        "\n",
        "    # create input layer and hidden layer\n",
        "    model.add(Dense(100, activation=\"relu\", input_shape=(input_size, )))\n",
        "\n",
        "    # create output layer\n",
        "    # Output layer uses softmax activation.\n",
        "    model.add(Dense(2, activation=\"softmax\"))\n",
        "\n",
        "    model.compile(optimizer='rmsprop', loss='categorical_crossentropy')\n",
        "    return model \n",
        "\n",
        "# Output layer should have separate node for each possible outcome.\n",
        "train_y = to_categorical(train_y)\n",
        "#valid_y = to_categorical(valid_y)\n",
        "\n",
        "# NN on Ngram Level TF IDF Vectors\n",
        "classifier = create_model_architecture(xtrain_tfidf_ngram.shape[1])\n",
        "accuracy = train_model(classifier, xtrain_tfidf_ngram, train_y, xvalid_tfidf_ngram, is_neural_net=True)\n",
        "print (\"NN, Ngram Level TF IDF Vectors:\",  accuracy)\n",
        "\n",
        "# NN on Glove Vectors\n",
        "classifier = create_model_architecture(xtrain_glove.shape[1])\n",
        "accuracy = train_model(classifier, xtrain_glove, train_y, xvalid_glove, is_neural_net=True)\n",
        "print (\"NN, Glove Vectors:\",  accuracy)\n",
        "\n",
        "# NN on word2vec Vectors\n",
        "classifier = create_model_architecture(xtrain_word2vec.shape[1])\n",
        "accuracy = train_model(classifier, xtrain_word2vec, train_y, xvalid_word2vec, is_neural_net=True)\n",
        "print (\"NN, word2vec Vectors:\",  accuracy)"
      ],
      "execution_count": null,
      "outputs": [
        {
          "output_type": "stream",
          "text": [
            "WARNING:tensorflow:From /usr/local/lib/python3.6/dist-packages/tensorflow/python/framework/op_def_library.py:263: colocate_with (from tensorflow.python.framework.ops) is deprecated and will be removed in a future version.\n",
            "Instructions for updating:\n",
            "Colocations handled automatically by placer.\n",
            "WARNING:tensorflow:From /usr/local/lib/python3.6/dist-packages/tensorflow/python/ops/math_ops.py:3066: to_int32 (from tensorflow.python.ops.math_ops) is deprecated and will be removed in a future version.\n",
            "Instructions for updating:\n",
            "Use tf.cast instead.\n",
            "Epoch 1/1\n",
            "7500/7500 [==============================] - 4s 493us/step - loss: 0.4994\n",
            "NN, Ngram Level TF IDF Vectors: 0.8308\n",
            "Epoch 1/1\n",
            "7500/7500 [==============================] - 1s 123us/step - loss: 0.6312\n",
            "NN, Glove Vectors: 0.638\n",
            "Epoch 1/1\n",
            "7500/7500 [==============================] - 1s 129us/step - loss: 0.6019\n",
            "NN, word2vec Vectors: 0.7652\n"
          ],
          "name": "stdout"
        }
      ]
    },
    {
      "cell_type": "markdown",
      "metadata": {
        "id": "xkb0WaO-YrXJ",
        "colab_type": "text"
      },
      "source": [
        "**Recurrent Neural Network – LSTM**"
      ]
    },
    {
      "cell_type": "code",
      "metadata": {
        "id": "4ZwGA5E2N6f7",
        "colab_type": "code",
        "colab": {
          "base_uri": "https://localhost:8080/",
          "height": 67
        },
        "outputId": "ca00fd91-9b2b-4b41-a247-686c1fb3bb2f"
      },
      "source": [
        "def create_rnn_lstm():\n",
        "  # Add an Input Layer\n",
        "  input_layer = layers.Input((70, ))\n",
        "\n",
        "  # Add the word embedding Layer\n",
        "  embedding_layer = layers.Embedding(len(word_index) + 1, 100, weights=[embedding_matrix], trainable=False)(input_layer)\n",
        "  embedding_layer = layers.SpatialDropout1D(0.3)(embedding_layer)\n",
        "\n",
        "  # Add the LSTM Layer\n",
        "  lstm_layer = layers.LSTM(100)(embedding_layer)\n",
        "\n",
        "  # Add the output Layers\n",
        "  output_layer1 = layers.Dense(50, activation=\"relu\")(lstm_layer)\n",
        "  output_layer1 = layers.Dropout(0.25)(output_layer1)\n",
        "  output_layer2 = layers.Dense(1, activation=\"sigmoid\")(output_layer1)\n",
        "\n",
        "  # Compile the model\n",
        "  model = models.Model(inputs=input_layer, outputs=output_layer2)\n",
        "  model.compile(optimizer=optimizers.Adam(), loss='binary_crossentropy')\n",
        "  \n",
        "  return model\n",
        "\n",
        "classifier = create_rnn_lstm()\n",
        "accuracy = train_model(classifier, train_seq_x, train_y, valid_seq_x, is_neural_net=True)\n",
        "print (\"RNN-LSTM, Word Embeddings\",  accuracy)"
      ],
      "execution_count": null,
      "outputs": [
        {
          "output_type": "stream",
          "text": [
            "Epoch 1/1\n",
            "7500/7500 [==============================] - 27s 4ms/step - loss: 0.6649\n",
            "RNN-LSTM, Word Embeddings 0.5048\n"
          ],
          "name": "stdout"
        }
      ]
    },
    {
      "cell_type": "markdown",
      "metadata": {
        "id": "xzu032W7ZPkz",
        "colab_type": "text"
      },
      "source": [
        "**Recurrent Neural Network – GRU**"
      ]
    },
    {
      "cell_type": "code",
      "metadata": {
        "id": "5nZeZetxYqCd",
        "colab_type": "code",
        "colab": {}
      },
      "source": [
        "def create_rnn_gru():\n",
        "  # Add an Input Layer\n",
        "  input_layer = layers.Input((70, ))\n",
        "\n",
        "  # Add the word embedding Layer\n",
        "  embedding_layer = layers.Embedding(len(word_index) + 1, 300, weights=[embedding_matrix], trainable=False)(input_layer)\n",
        "  embedding_layer = layers.SpatialDropout1D(0.3)(embedding_layer)\n",
        "\n",
        "  # Add the GRU Layer\n",
        "  lstm_layer = layers.GRU(100)(embedding_layer)\n",
        "\n",
        "  # Add the output Layers\n",
        "  output_layer1 = layers.Dense(50, activation=\"relu\")(lstm_layer)\n",
        "  output_layer1 = layers.Dropout(0.25)(output_layer1)\n",
        "  output_layer2 = layers.Dense(1, activation=\"sigmoid\")(output_layer1)\n",
        "\n",
        "  # Compile the model\n",
        "  model = models.Model(inputs=input_layer, outputs=output_layer2)\n",
        "  model.compile(optimizer=optimizers.Adam(), loss='binary_crossentropy')\n",
        "    \n",
        "  return model\n",
        "\n",
        "classifier = create_rnn_gru()\n",
        "accuracy = train_model(classifier, train_seq_x, train_y, valid_seq_x, is_neural_net=True)\n",
        "print (\"RNN-GRU, Word Embeddings\",  accuracy)"
      ],
      "execution_count": null,
      "outputs": []
    },
    {
      "cell_type": "markdown",
      "metadata": {
        "id": "IV26ZsJ71rhy",
        "colab_type": "text"
      },
      "source": [
        "**Bidirectional RNN**"
      ]
    },
    {
      "cell_type": "code",
      "metadata": {
        "id": "WDtfSPj21uvw",
        "colab_type": "code",
        "colab": {}
      },
      "source": [
        "def create_bidirectional_rnn():\n",
        "    # Add an Input Layer\n",
        "    input_layer = layers.Input((70, ))\n",
        "\n",
        "    # Add the word embedding Layer\n",
        "    embedding_layer = layers.Embedding(len(word_index) + 1, 300, weights=[embedding_matrix], trainable=False)(input_layer)\n",
        "    embedding_layer = layers.SpatialDropout1D(0.3)(embedding_layer)\n",
        "\n",
        "    # Add the LSTM Layer\n",
        "    lstm_layer = layers.Bidirectional(layers.GRU(100))(embedding_layer)\n",
        "\n",
        "    # Add the output Layers\n",
        "    output_layer1 = layers.Dense(50, activation=\"relu\")(lstm_layer)\n",
        "    output_layer1 = layers.Dropout(0.25)(output_layer1)\n",
        "    output_layer2 = layers.Dense(1, activation=\"sigmoid\")(output_layer1)\n",
        "\n",
        "    # Compile the model\n",
        "    model = models.Model(inputs=input_layer, outputs=output_layer2)\n",
        "    model.compile(optimizer=optimizers.Adam(), loss='binary_crossentropy')\n",
        "    \n",
        "    return model\n",
        "\n",
        "classifier = create_bidirectional_rnn()\n",
        "accuracy = train_model(classifier, train_seq_x, train_y, valid_seq_x, is_neural_net=True)\n",
        "print (\"RNN-Bidirectional, Word Embeddings\",  accuracy)"
      ],
      "execution_count": null,
      "outputs": []
    }
  ]
}